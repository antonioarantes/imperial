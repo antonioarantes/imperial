{
 "cells": [
  {
   "cell_type": "markdown",
   "id": "d58d7167",
   "metadata": {},
   "source": [
    "## Initial Steps"
   ]
  },
  {
   "cell_type": "markdown",
   "id": "d0964a07",
   "metadata": {},
   "source": [
    "### Import Libraries needed"
   ]
  },
  {
   "cell_type": "code",
   "execution_count": null,
   "id": "fab82197",
   "metadata": {},
   "outputs": [],
   "source": [
    "# data manipulation\n",
    "import pandas as pd\n",
    "import numpy as np\n",
    "\n",
    "# data viz\n",
    "import matplotlib.pyplot as plt\n",
    "import seaborn as sns\n",
    "plt.style.use('fivethirtyeight')\n",
    "\n",
    "# ignore warnings\n",
    "import warnings\n",
    "warnings.filterwarnings('ignore')"
   ]
  },
  {
   "cell_type": "markdown",
   "id": "b1f7aab7",
   "metadata": {},
   "source": [
    "### Import the Data"
   ]
  },
  {
   "cell_type": "code",
   "execution_count": null,
   "id": "1036df42",
   "metadata": {},
   "outputs": [],
   "source": [
    "url = 'https://raw.githubusercontent.com/vkoul/data/main/misc/car_data.csv'\n",
    "\n",
    "df = pd.read_csv(url)"
   ]
  },
  {
   "cell_type": "markdown",
   "id": "8fe42e78",
   "metadata": {},
   "source": [
    "## Data Inspection"
   ]
  },
  {
   "cell_type": "markdown",
   "id": "af031f9b",
   "metadata": {},
   "source": [
    "### Data Inspect"
   ]
  },
  {
   "cell_type": "code",
   "execution_count": null,
   "id": "6d8a3d6e",
   "metadata": {},
   "outputs": [],
   "source": [
    "df.head(10)"
   ]
  },
  {
   "cell_type": "code",
   "execution_count": null,
   "id": "09ff8452",
   "metadata": {},
   "outputs": [],
   "source": [
    "df.shape"
   ]
  },
  {
   "cell_type": "markdown",
   "id": "eb1a905f",
   "metadata": {},
   "source": [
    "### Missing Values and Duplicated"
   ]
  },
  {
   "cell_type": "code",
   "execution_count": null,
   "id": "cba4df34",
   "metadata": {},
   "outputs": [],
   "source": [
    "df.isna().sum()"
   ]
  },
  {
   "cell_type": "code",
   "execution_count": null,
   "id": "f308b3c1",
   "metadata": {},
   "outputs": [],
   "source": [
    "df.isna().mean().multiply(100)"
   ]
  },
  {
   "cell_type": "code",
   "execution_count": null,
   "id": "87fecae2",
   "metadata": {},
   "outputs": [],
   "source": [
    "# Not sure if i should remove NA but did it to consider everything\n",
    "df = df.dropna()\n",
    "df"
   ]
  },
  {
   "cell_type": "code",
   "execution_count": null,
   "id": "7d6021a6",
   "metadata": {},
   "outputs": [],
   "source": [
    "df.duplicated().sum()/df.shape[0]"
   ]
  },
  {
   "cell_type": "code",
   "execution_count": null,
   "id": "a3c4dea6",
   "metadata": {},
   "outputs": [],
   "source": [
    "# Remove Duplicates, there is no reason for that in this subset. It is a list of cars and it's price\n",
    "df = df.drop_duplicates()\n",
    "df"
   ]
  },
  {
   "cell_type": "code",
   "execution_count": null,
   "id": "3869ed6c",
   "metadata": {},
   "outputs": [],
   "source": [
    "df.duplicated().sum()/df.shape[0]"
   ]
  },
  {
   "cell_type": "markdown",
   "id": "e28da332",
   "metadata": {},
   "source": [
    "**Rename the Columns (just to be easier)**"
   ]
  },
  {
   "cell_type": "code",
   "execution_count": null,
   "id": "8671986a",
   "metadata": {},
   "outputs": [],
   "source": [
    "df.columns"
   ]
  },
  {
   "cell_type": "code",
   "execution_count": null,
   "id": "155ff0fa",
   "metadata": {},
   "outputs": [],
   "source": [
    "df.columns = df.columns.str.lower()"
   ]
  },
  {
   "cell_type": "code",
   "execution_count": null,
   "id": "4e1bc276",
   "metadata": {},
   "outputs": [],
   "source": [
    "df.columns = df.columns.str.replace(' ','_')"
   ]
  },
  {
   "cell_type": "code",
   "execution_count": null,
   "id": "ec82ced1",
   "metadata": {},
   "outputs": [],
   "source": [
    "df.columns"
   ]
  },
  {
   "cell_type": "code",
   "execution_count": null,
   "id": "004550eb",
   "metadata": {},
   "outputs": [],
   "source": [
    "# Changing the name mrsp to price just to be easier\n",
    "df.rename(columns={'msrp':'price'},inplace = True)\n",
    "df.columns"
   ]
  },
  {
   "cell_type": "markdown",
   "id": "2624ad09",
   "metadata": {},
   "source": [
    "## EDA"
   ]
  },
  {
   "cell_type": "markdown",
   "id": "f282d086",
   "metadata": {},
   "source": [
    "### Univariate Analysis (and remove duplicates)"
   ]
  },
  {
   "cell_type": "code",
   "execution_count": null,
   "id": "8be59aca",
   "metadata": {},
   "outputs": [],
   "source": [
    "df.describe()"
   ]
  },
  {
   "cell_type": "code",
   "execution_count": null,
   "id": "a356efa9",
   "metadata": {},
   "outputs": [],
   "source": [
    "df.describe([0.005, 0.01, 0.05, 0.1, 0.2, 0.8, 0.9, 0.99, 0.995, 0.999])"
   ]
  },
  {
   "cell_type": "code",
   "execution_count": null,
   "id": "ebb17cc0",
   "metadata": {},
   "outputs": [],
   "source": [
    "df.year.value_counts()"
   ]
  },
  {
   "cell_type": "code",
   "execution_count": null,
   "id": "6fab7de4",
   "metadata": {},
   "outputs": [],
   "source": [
    "df.year.plot(kind = 'hist');\n",
    "\n",
    "plt.title('Number of Cars per Year')\n",
    "plt.ylabel('Number of Cars')\n",
    "plt.xlabel('Year');"
   ]
  },
  {
   "cell_type": "code",
   "execution_count": null,
   "id": "cef44996",
   "metadata": {},
   "outputs": [],
   "source": [
    "df.engine_hp.value_counts()"
   ]
  },
  {
   "cell_type": "code",
   "execution_count": null,
   "id": "8958ea25",
   "metadata": {},
   "outputs": [],
   "source": [
    "# Remove the 1001 value, really different from the others\n",
    "df.drop(df[df['engine_hp'] == 1001].index, inplace = True)\n",
    "df.engine_hp.value_counts()"
   ]
  },
  {
   "cell_type": "code",
   "execution_count": null,
   "id": "e9641057",
   "metadata": {},
   "outputs": [],
   "source": [
    "pd.cut(df.engine_hp, bins=6).value_counts().sort_index().plot(kind='bar');\n",
    "\n",
    "plt.title('Number of Cars per Class of Engine HP')\n",
    "plt.ylabel('Number of Cars')\n",
    "plt.xlabel('Engine HP');"
   ]
  },
  {
   "cell_type": "code",
   "execution_count": null,
   "id": "2f1eceaa",
   "metadata": {},
   "outputs": [],
   "source": [
    "df.engine_cylinders.value_counts()"
   ]
  },
  {
   "cell_type": "code",
   "execution_count": null,
   "id": "fe32de9f",
   "metadata": {},
   "outputs": [],
   "source": [
    "# Remove the Engine Cylinders = 0 because it should be an outlier (a mistake)\n",
    "df.drop(df[df['engine_cylinders'] == 0].index, inplace = True)\n",
    "df.engine_cylinders.value_counts()"
   ]
  },
  {
   "cell_type": "code",
   "execution_count": null,
   "id": "888fc7c2",
   "metadata": {},
   "outputs": [],
   "source": [
    "df.engine_cylinders.plot(kind='hist');\n",
    "\n",
    "plt.title('Number of Cars per Engine Cylinders')\n",
    "plt.ylabel('Number of Cars')\n",
    "plt.xlabel('Engine Cylinders');"
   ]
  },
  {
   "cell_type": "code",
   "execution_count": null,
   "id": "439a2e2d",
   "metadata": {},
   "outputs": [],
   "source": [
    "df.number_of_doors.value_counts()"
   ]
  },
  {
   "cell_type": "code",
   "execution_count": null,
   "id": "70bcc15f",
   "metadata": {},
   "outputs": [],
   "source": [
    "# Remove the cars that have 3 Doors\n",
    "df.drop(df[df['number_of_doors'] == 3].index, inplace = True)\n",
    "df.number_of_doors.value_counts()"
   ]
  },
  {
   "cell_type": "code",
   "execution_count": null,
   "id": "2f98c37d",
   "metadata": {},
   "outputs": [],
   "source": [
    "df.number_of_doors.value_counts().plot(kind='pie')\n",
    "\n",
    "plt.title('Proportion of Cars with 4 and 2 Doors')\n",
    "plt.ylabel('Number of Cars');"
   ]
  },
  {
   "cell_type": "code",
   "execution_count": null,
   "id": "60d3ee33",
   "metadata": {},
   "outputs": [],
   "source": [
    "df.highway_mpg.value_counts()"
   ]
  },
  {
   "cell_type": "code",
   "execution_count": null,
   "id": "518795e3",
   "metadata": {},
   "outputs": [],
   "source": [
    "# Remove the 354 value of highway_mpg\n",
    "df.drop(df[df['highway_mpg'] == 354].index, inplace = True)\n",
    "df.highway_mpg.value_counts()"
   ]
  },
  {
   "cell_type": "code",
   "execution_count": null,
   "id": "dab2dd07",
   "metadata": {},
   "outputs": [],
   "source": [
    "pd.cut(df.highway_mpg, bins=5).value_counts().sort_index().plot(kind='bar');\n",
    "\n",
    "plt.title('Number of Cars per Highway MPG')\n",
    "plt.ylabel('Number of Cars')\n",
    "plt.xlabel('MPG');"
   ]
  },
  {
   "cell_type": "code",
   "execution_count": null,
   "id": "ff557b02",
   "metadata": {},
   "outputs": [],
   "source": [
    "df.city_mpg.value_counts()"
   ]
  },
  {
   "cell_type": "code",
   "execution_count": null,
   "id": "694346c7",
   "metadata": {},
   "outputs": [],
   "source": [
    "pd.cut(df.city_mpg, bins=5).value_counts().sort_index().plot(kind='bar');\n",
    "\n",
    "plt.title('Number of Cars per City MPG')\n",
    "plt.ylabel('Number of Cars')\n",
    "plt.xlabel('MPG');"
   ]
  },
  {
   "cell_type": "code",
   "execution_count": null,
   "id": "c4a9b418",
   "metadata": {},
   "outputs": [],
   "source": [
    "bin_edges = [2000,10000,20000,30000,40000,50000,60000,70000,2065092]\n",
    "\n",
    "pd.cut(df.price, bin_edges, right = False).value_counts().sort_index().plot(kind='bar');\n",
    "\n",
    "plt.title('Number of Cars per Price')\n",
    "plt.ylabel('Number of Cars')\n",
    "plt.xlabel('Price');"
   ]
  },
  {
   "cell_type": "code",
   "execution_count": null,
   "id": "5674d063",
   "metadata": {},
   "outputs": [],
   "source": [
    "pd.cut(df.price, bin_edges, right = False).value_counts()"
   ]
  },
  {
   "cell_type": "code",
   "execution_count": null,
   "id": "ab896ed3",
   "metadata": {},
   "outputs": [],
   "source": [
    "df.describe()"
   ]
  },
  {
   "cell_type": "code",
   "execution_count": null,
   "id": "4b3b7d35",
   "metadata": {},
   "outputs": [],
   "source": [
    "df.describe([0.005, 0.01, 0.05, 0.1, 0.2, 0.8, 0.9, 0.99, 0.995, 0.999])"
   ]
  },
  {
   "cell_type": "code",
   "execution_count": null,
   "id": "c4e2e0f2",
   "metadata": {},
   "outputs": [],
   "source": [
    "df.describe(include = 'O')"
   ]
  },
  {
   "cell_type": "markdown",
   "id": "5732945d",
   "metadata": {},
   "source": [
    "### Bivariate Analysis"
   ]
  },
  {
   "cell_type": "code",
   "execution_count": null,
   "id": "eb373dc0",
   "metadata": {},
   "outputs": [],
   "source": [
    "df.columns"
   ]
  },
  {
   "cell_type": "markdown",
   "id": "2c53196d",
   "metadata": {},
   "source": [
    "**Price by Make**"
   ]
  },
  {
   "cell_type": "code",
   "execution_count": null,
   "id": "1e0e2b03",
   "metadata": {},
   "outputs": [],
   "source": [
    "df.make.value_counts().nlargest(10)"
   ]
  },
  {
   "cell_type": "code",
   "execution_count": null,
   "id": "4ee0ade6",
   "metadata": {},
   "outputs": [],
   "source": [
    "df.groupby('make')['price'].mean().plot(kind='bar', figsize = (15,10));"
   ]
  },
  {
   "cell_type": "markdown",
   "id": "0eeb8cb3",
   "metadata": {},
   "source": [
    "**Price by Engine Fuel Type**"
   ]
  },
  {
   "cell_type": "code",
   "execution_count": null,
   "id": "bb686842",
   "metadata": {},
   "outputs": [],
   "source": [
    "df.groupby('engine_fuel_type')['price'].mean().plot(kind='bar', figsize = (15,10));"
   ]
  },
  {
   "cell_type": "markdown",
   "id": "743a820a",
   "metadata": {},
   "source": [
    "**Correlation between values**"
   ]
  },
  {
   "cell_type": "code",
   "execution_count": null,
   "id": "1c6d7148",
   "metadata": {},
   "outputs": [],
   "source": [
    "df.corr()['price'].round(2)"
   ]
  },
  {
   "cell_type": "code",
   "execution_count": null,
   "id": "0ee1aafe",
   "metadata": {},
   "outputs": [],
   "source": [
    "df.drop('price', axis=1).corrwith(df['price']).round(2)\n",
    "# Without the 1 for Price"
   ]
  },
  {
   "cell_type": "code",
   "execution_count": null,
   "id": "8c22b495",
   "metadata": {},
   "outputs": [],
   "source": [
    "corr = df.corr().round(2)\n",
    "corr"
   ]
  },
  {
   "cell_type": "code",
   "execution_count": null,
   "id": "16a7dd56",
   "metadata": {},
   "outputs": [],
   "source": [
    "sns.heatmap(corr, annot = True, cmap = 'Reds');"
   ]
  },
  {
   "cell_type": "code",
   "execution_count": null,
   "id": "ce2c401a",
   "metadata": {},
   "outputs": [],
   "source": [
    "price = df.corr()['price'].round(2).to_frame()\n",
    "sns.heatmap(price, annot=True, cmap = 'Reds')"
   ]
  },
  {
   "cell_type": "markdown",
   "id": "d27023d6",
   "metadata": {},
   "source": [
    "### Data Prep for Modelling"
   ]
  },
  {
   "cell_type": "markdown",
   "id": "a37acb36",
   "metadata": {},
   "source": [
    "**Separate the values of Market Category**"
   ]
  },
  {
   "cell_type": "code",
   "execution_count": null,
   "id": "7bc01a3a",
   "metadata": {},
   "outputs": [],
   "source": [
    "# Splipt the 'market_category' column by a comma and expand the resulting Dataframe\n",
    "df_expanded = df['market_category'].str.split(',', expand=True)\n",
    "\n",
    "# Copy the dataframe\n",
    "df2 = df[:].copy()\n",
    "\n",
    "# Create a new DataFrame with one column for each unique value in the expanded DataFrame\n",
    "df_expanded = pd.get_dummies(df_expanded.stack()).sum(level=0)\n",
    "\n",
    "# Concatenate the original DataFrame and the expanded DataFrame\n",
    "df2 = pd.concat([df, df_expanded], axis = 1)"
   ]
  },
  {
   "cell_type": "code",
   "execution_count": null,
   "id": "3f141bfe",
   "metadata": {},
   "outputs": [],
   "source": [
    "df2.columns"
   ]
  },
  {
   "cell_type": "code",
   "execution_count": null,
   "id": "d6b30172",
   "metadata": {},
   "outputs": [],
   "source": [
    "# Drop Market Category category\n",
    "del df2['market_category']\n",
    "df2.columns"
   ]
  },
  {
   "cell_type": "markdown",
   "id": "d7d4326c",
   "metadata": {},
   "source": [
    "**Conver the other categorical value to numerical**"
   ]
  },
  {
   "cell_type": "code",
   "execution_count": null,
   "id": "5ddb44b8",
   "metadata": {},
   "outputs": [],
   "source": [
    "df2 = pd.get_dummies(df2, columns = ['make', 'model', 'engine_fuel_type', 'transmission_type', 'driven_wheels',\n",
    "                                     'vehicle_size', 'vehicle_style'])"
   ]
  },
  {
   "cell_type": "code",
   "execution_count": null,
   "id": "4c1e1f26",
   "metadata": {},
   "outputs": [],
   "source": [
    "df2.columns"
   ]
  },
  {
   "cell_type": "markdown",
   "id": "e721513d",
   "metadata": {},
   "source": [
    "**Rename again the columns**"
   ]
  },
  {
   "cell_type": "code",
   "execution_count": null,
   "id": "fc10da0e",
   "metadata": {},
   "outputs": [],
   "source": [
    "df2.columns = df2.columns.str.lower()"
   ]
  },
  {
   "cell_type": "code",
   "execution_count": null,
   "id": "e5f9c2fb",
   "metadata": {},
   "outputs": [],
   "source": [
    "df2.columns = df2.columns.str.replace(' ','_')"
   ]
  },
  {
   "cell_type": "code",
   "execution_count": null,
   "id": "6f7daaa4",
   "metadata": {},
   "outputs": [],
   "source": [
    "df2.columns = df2.columns.str.replace('-','_')"
   ]
  },
  {
   "cell_type": "code",
   "execution_count": null,
   "id": "b338dccd",
   "metadata": {},
   "outputs": [],
   "source": [
    "df2.columns"
   ]
  },
  {
   "cell_type": "markdown",
   "id": "535d31db",
   "metadata": {},
   "source": [
    "**Train Test Splitting**"
   ]
  },
  {
   "cell_type": "code",
   "execution_count": null,
   "id": "cad05bab",
   "metadata": {},
   "outputs": [],
   "source": [
    "# Data Prep\n",
    "from sklearn.model_selection import train_test_split"
   ]
  },
  {
   "cell_type": "code",
   "execution_count": null,
   "id": "9e4527d8",
   "metadata": {},
   "outputs": [],
   "source": [
    "# Splitting the Data\n",
    "x = df2.drop(columns = 'price')\n",
    "y = df2['price']"
   ]
  },
  {
   "cell_type": "code",
   "execution_count": null,
   "id": "57d321bc",
   "metadata": {},
   "outputs": [],
   "source": [
    "# Doing train test split\n",
    "x_train, x_test, y_train, y_test = train_test_split(x, y, test_size = 0.2, random_state = 42)"
   ]
  },
  {
   "cell_type": "code",
   "execution_count": null,
   "id": "a2583aa4",
   "metadata": {},
   "outputs": [],
   "source": [
    "print('x_train: ', x_train.shape)\n",
    "print('y_train: ', y_train.shape)\n",
    "print('x_test: ', x_test.shape)\n",
    "print('y_test: ', y_test.shape)"
   ]
  },
  {
   "cell_type": "markdown",
   "id": "a7dcd088",
   "metadata": {},
   "source": [
    "**Standardization**"
   ]
  },
  {
   "cell_type": "code",
   "execution_count": null,
   "id": "2512a3e0",
   "metadata": {},
   "outputs": [],
   "source": [
    "# Data Prep\n",
    "from sklearn.preprocessing import StandardScaler"
   ]
  },
  {
   "cell_type": "code",
   "execution_count": null,
   "id": "ba8780ea",
   "metadata": {},
   "outputs": [],
   "source": [
    "scaler = StandardScaler()"
   ]
  },
  {
   "cell_type": "code",
   "execution_count": null,
   "id": "8d786bf9",
   "metadata": {},
   "outputs": [],
   "source": [
    "x_train = scaler.fit_transform(x_train)"
   ]
  },
  {
   "cell_type": "code",
   "execution_count": null,
   "id": "a0628388",
   "metadata": {},
   "outputs": [],
   "source": [
    "x_test = scaler.transform(x_test)"
   ]
  },
  {
   "cell_type": "code",
   "execution_count": null,
   "id": "afab6a38",
   "metadata": {},
   "outputs": [],
   "source": [
    "x_train"
   ]
  },
  {
   "cell_type": "code",
   "execution_count": null,
   "id": "b578a90c",
   "metadata": {},
   "outputs": [],
   "source": [
    "x_test"
   ]
  },
  {
   "cell_type": "markdown",
   "id": "2a042853",
   "metadata": {},
   "source": [
    "## Model Building - Linear"
   ]
  },
  {
   "cell_type": "code",
   "execution_count": null,
   "id": "b35e1982",
   "metadata": {},
   "outputs": [],
   "source": [
    "from sklearn.linear_model import LinearRegression"
   ]
  },
  {
   "cell_type": "code",
   "execution_count": null,
   "id": "56d93770",
   "metadata": {},
   "outputs": [],
   "source": [
    "linear = LinearRegression()"
   ]
  },
  {
   "cell_type": "code",
   "execution_count": null,
   "id": "fa9cd42d",
   "metadata": {},
   "outputs": [],
   "source": [
    "linear.fit(x_train, y_train)"
   ]
  },
  {
   "cell_type": "code",
   "execution_count": null,
   "id": "b93ddccf",
   "metadata": {},
   "outputs": [],
   "source": [
    "linear.score(x_train, y_train)"
   ]
  },
  {
   "cell_type": "code",
   "execution_count": null,
   "id": "3e3fd952",
   "metadata": {},
   "outputs": [],
   "source": [
    "predictions = linear.predict(x_train)"
   ]
  },
  {
   "cell_type": "markdown",
   "id": "75499c74",
   "metadata": {},
   "source": [
    "**Train Data Predictions**"
   ]
  },
  {
   "cell_type": "code",
   "execution_count": null,
   "id": "53f419b6",
   "metadata": {},
   "outputs": [],
   "source": [
    "# Combine the actual data and predictions\n",
    "output = pd.DataFrame({'actual': y_train,\n",
    "                       'predictions': predictions})\n",
    "\n",
    "# Sort the index\n",
    "output = output.sort_index()\n",
    "\n",
    "# New output\n",
    "output.head()"
   ]
  },
  {
   "cell_type": "code",
   "execution_count": null,
   "id": "4492143a",
   "metadata": {},
   "outputs": [],
   "source": [
    "# Visualize the Predictions"
   ]
  },
  {
   "cell_type": "code",
   "execution_count": null,
   "id": "2e8419d7",
   "metadata": {},
   "outputs": [],
   "source": [
    "plt.figure(figsize = (20,15))\n",
    "\n",
    "plt.plot(output['actual'], label = 'actual')\n",
    "plt.plot(output['predictions'], label = 'predictions')\n",
    "\n",
    "plt.ylabel('Price')\n",
    "\n",
    "plt.legend()\n",
    "\n",
    "plt.show();"
   ]
  },
  {
   "cell_type": "markdown",
   "id": "0f5adfaf",
   "metadata": {},
   "source": [
    "**Test Data Predictions**"
   ]
  },
  {
   "cell_type": "code",
   "execution_count": null,
   "id": "b15f1113",
   "metadata": {},
   "outputs": [],
   "source": [
    "# Data Prep\n",
    "from sklearn.metrics import mean_squared_error, mean_absolute_error"
   ]
  },
  {
   "cell_type": "code",
   "execution_count": null,
   "id": "842c7349",
   "metadata": {},
   "outputs": [],
   "source": [
    "linear.score(x_test, y_test)"
   ]
  },
  {
   "cell_type": "code",
   "execution_count": null,
   "id": "f07d77f1",
   "metadata": {},
   "outputs": [],
   "source": [
    "# Predictions for test data\n",
    "\n",
    "test_predictions = np.round(linear.predict(x_test),1)\n",
    "\n",
    "# Calculate the score\n",
    "print('R^2 of test: {:.2f}'.format(linear.score(x_test, y_test)))\n",
    "\n",
    "# Accuracy metrics\n",
    "print('RMSE of test: {:.2f}'.format(mean_squared_error(y_test, test_predictions, squared = False)))\n",
    "print('MAE of test: {:.2f}'.format(mean_absolute_error(y_test, test_predictions)))"
   ]
  },
  {
   "cell_type": "code",
   "execution_count": null,
   "id": "726cb7dc",
   "metadata": {},
   "outputs": [],
   "source": [
    "## Model Score of test data is really bad opposed to a really good one for training data. This actually makes sense due\n",
    "## to the amount of variables that we are using. It is clearly a problem of overfitting."
   ]
  },
  {
   "cell_type": "markdown",
   "id": "85d8a538",
   "metadata": {},
   "source": [
    "## Model Building - KNeihborsRegressor"
   ]
  },
  {
   "cell_type": "code",
   "execution_count": null,
   "id": "28b436e6",
   "metadata": {},
   "outputs": [],
   "source": [
    "# Prep the data\n",
    "from sklearn.neighbors import KNeighborsRegressor"
   ]
  },
  {
   "cell_type": "code",
   "execution_count": null,
   "id": "6ffd8cd8",
   "metadata": {},
   "outputs": [],
   "source": [
    "knn = KNeighborsRegressor(n_neighbors = 1)\n",
    "\n",
    "# Fit the model\n",
    "knn.fit(x_train, y_train)\n",
    "\n",
    "# Record training set accuracy\n",
    "print(knn.score(x_train, y_train))\n",
    "\n",
    "# Record test accuracy\n",
    "print(knn.score(x_test, y_test))"
   ]
  },
  {
   "cell_type": "markdown",
   "id": "ffca2fef",
   "metadata": {},
   "source": [
    "**Try several values for K**"
   ]
  },
  {
   "cell_type": "code",
   "execution_count": null,
   "id": "ce9281c1",
   "metadata": {},
   "outputs": [],
   "source": [
    "# empty list that will be populated\n",
    "training_accuracy = []\n",
    "test_accuracy = []\n",
    "\n",
    "# try n_neighbors from 1 to 20\n",
    "neighbors_settings = range(1,20)\n",
    "\n",
    "for n_neighbors in neighbors_settings:\n",
    "    \n",
    "    #build the model\n",
    "    knn = KNeighborsRegressor(n_neighbors = n_neighbors)\n",
    "    knn.fit(x_train, y_train)\n",
    "    \n",
    "    # record training set accuracy\n",
    "    training_accuracy.append(knn.score(x_train, y_train))\n",
    "    \n",
    "    # record generalization accuracy\n",
    "    test_accuracy.append(knn.score(x_test, y_test))"
   ]
  },
  {
   "cell_type": "code",
   "execution_count": null,
   "id": "2c5fe980",
   "metadata": {},
   "outputs": [],
   "source": [
    "print(test_accuracy)\n",
    "print('--------')\n",
    "print(training_accuracy)"
   ]
  },
  {
   "cell_type": "code",
   "execution_count": null,
   "id": "77d2ea1a",
   "metadata": {},
   "outputs": [],
   "source": [
    "## Visualize\n",
    "plt.figure(figsize = (10,8))\n",
    "\n",
    "plt.plot(neighbors_settings, training_accuracy, marker = 'o', label = 'Training Accuracy')\n",
    "plt.plot(neighbors_settings, test_accuracy, marker = 'o', label = 'Test Accuracy')\n",
    "\n",
    "# highlight the max and min accuracy values\n",
    "plt.axvline(x = test_accuracy.index(max(test_accuracy))+1, linewidth = 10, alpha = 0.2, color ='green')\n",
    "plt.axvline(x = test_accuracy.index(min(test_accuracy))+1, linewidth = 10, alpha = 0.2, color ='red')\n",
    "\n",
    "plt.ylabel('Accuracy')\n",
    "plt.xlabel('K')\n",
    "\n",
    "plt.legend();"
   ]
  },
  {
   "cell_type": "code",
   "execution_count": null,
   "id": "0989d577",
   "metadata": {},
   "outputs": [],
   "source": [
    "# Is it ok to use K = 1 or is it wrong? We are going to have big variance with this, should we opt for K = 2?"
   ]
  },
  {
   "cell_type": "markdown",
   "id": "cd4eab11",
   "metadata": {},
   "source": [
    "**Using K = 2**"
   ]
  },
  {
   "cell_type": "code",
   "execution_count": null,
   "id": "9d4af088",
   "metadata": {},
   "outputs": [],
   "source": [
    "knn = KNeighborsRegressor(n_neighbors = 2)\n",
    "\n",
    "# Fit the model\n",
    "knn.fit(x_train, y_train)\n",
    "\n",
    "# Record training set accuracy\n",
    "print(knn.score(x_train, y_train))\n",
    "\n",
    "# Record test accuracy\n",
    "print(knn.score(x_test, y_test))"
   ]
  },
  {
   "cell_type": "code",
   "execution_count": null,
   "id": "a6bc6e31",
   "metadata": {},
   "outputs": [],
   "source": [
    "predictionsknn = knn.predict(x_train)"
   ]
  },
  {
   "cell_type": "code",
   "execution_count": null,
   "id": "608ae9fc",
   "metadata": {},
   "outputs": [],
   "source": [
    "# # combine the actual data and predictions\n",
    "outputknn = pd.DataFrame({\"actualknn\": y_train, \n",
    "                       \"predictionsknn\": predictionsknn})\n",
    "\n",
    "# # sort the index\n",
    "outputknn = outputknn.sort_index()\n",
    "\n",
    "# # new output\n",
    "outputknn.head()"
   ]
  },
  {
   "cell_type": "code",
   "execution_count": null,
   "id": "2ba57fa5",
   "metadata": {},
   "outputs": [],
   "source": [
    "plt.figure(figsize = (20,15))\n",
    "\n",
    "plt.plot(outputknn['actualknn'], label = 'actual')\n",
    "plt.plot(outputknn['predictionsknn'], label = 'predictions')\n",
    "\n",
    "plt.ylabel('Price')\n",
    "\n",
    "plt.legend()\n",
    "\n",
    "plt.show();"
   ]
  },
  {
   "cell_type": "code",
   "execution_count": null,
   "id": "071af753",
   "metadata": {},
   "outputs": [],
   "source": [
    "test_predictionsknn = np.round(knn.predict(x_test),1)\n",
    "\n",
    "print(\"R^2 of test: {:.2f}\".format(knn.score(x_test, y_test)))\n",
    "print(\"RMSE of test: {:.2f}\".format(mean_squared_error(y_test, test_predictionsknn, squared = False)))\n",
    "print(\"MAE of test: {:.2f}\".format(mean_absolute_error(y_test, test_predictionsknn)))"
   ]
  },
  {
   "cell_type": "code",
   "execution_count": null,
   "id": "93c06a8c",
   "metadata": {},
   "outputs": [],
   "source": [
    "test_outputknn = pd.DataFrame({\"actualknn\": y_test, \n",
    "                               \"test_predictionsknn\": test_predictionsknn})\n",
    "\n",
    "# # sorting index\n",
    "test_outputknn = test_outputknn.sort_index()\n",
    "test_outputknn.head()"
   ]
  },
  {
   "cell_type": "code",
   "execution_count": null,
   "id": "26cfda25",
   "metadata": {},
   "outputs": [],
   "source": [
    "plt.figure(figsize = (20,15))\n",
    "\n",
    "plt.plot(test_outputknn[\"actualknn\"], marker = \"o\", label = \"actual\")\n",
    "plt.plot(test_outputknn[\"test_predictionsknn\"], marker = \"o\", label = \"predictions\")\n",
    "\n",
    "plt.ylabel(\"Price\")\n",
    "\n",
    "plt.legend()\n",
    "\n",
    "plt.show();"
   ]
  },
  {
   "cell_type": "code",
   "execution_count": null,
   "id": "0d423cea",
   "metadata": {},
   "outputs": [],
   "source": []
  }
 ],
 "metadata": {
  "kernelspec": {
   "display_name": "Python 3 (ipykernel)",
   "language": "python",
   "name": "python3"
  },
  "language_info": {
   "codemirror_mode": {
    "name": "ipython",
    "version": 3
   },
   "file_extension": ".py",
   "mimetype": "text/x-python",
   "name": "python",
   "nbconvert_exporter": "python",
   "pygments_lexer": "ipython3",
   "version": "3.9.13"
  }
 },
 "nbformat": 4,
 "nbformat_minor": 5
}
